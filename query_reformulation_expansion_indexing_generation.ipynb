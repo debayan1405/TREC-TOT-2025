{
  "nbformat": 4,
  "nbformat_minor": 0,
  "metadata": {
    "colab": {
      "provenance": [],
      "collapsed_sections": [
        "g_zSWXGF_AR9"
      ],
      "mount_file_id": "1vVFjqAfJjqU8ZFpzFpMep4JgEKynbZfu",
      "authorship_tag": "ABX9TyOADjXAXJGwhELbkaZY0Kt1",
      "include_colab_link": true
    },
    "kernelspec": {
      "name": "python3",
      "display_name": "Python 3"
    },
    "language_info": {
      "name": "python"
    },
        "30b965d3df6145eaa39ef8a67216f217": {
          "model_module": "@jupyter-widgets/controls",
          "model_name": "HTMLModel",
          "model_module_version": "1.5.0",
          "state": {
            "_dom_classes": [],
            "_model_module": "@jupyter-widgets/controls",
            "_model_module_version": "1.5.0",
            "_model_name": "HTMLModel",
            "_view_count": null,
            "_view_module": "@jupyter-widgets/controls",
            "_view_module_version": "1.5.0",
            "_view_name": "HTMLView",
            "description": "",
            "description_tooltip": null,
            "layout": "IPY_MODEL_1c3b03de26fd452ab159332fee82bfe0",
            "placeholder": "​",
            "style": "IPY_MODEL_c9cc8ed84ddd4089b614b8c6e18adeac",
            "value": "Resolving data files: 100%"
          }
        },
        "46efc55186284c4fbca713d58da4e34b": {
          "model_module": "@jupyter-widgets/controls",
          "model_name": "FloatProgressModel",
          "model_module_version": "1.5.0",
          "state": {
            "_dom_classes": [],
            "_model_module": "@jupyter-widgets/controls",
            "_model_module_version": "1.5.0",
            "_model_name": "FloatProgressModel",
            "_view_count": null,
            "_view_module": "@jupyter-widgets/controls",
            "_view_module_version": "1.5.0",
            "_view_name": "ProgressView",
            "bar_style": "success",
            "description": "",
            "description_tooltip": null,
            "layout": "IPY_MODEL_4bebeb563d3449a4bd82b63bd3b0cffa",
            "max": 41,
            "min": 0,
            "orientation": "horizontal",
            "style": "IPY_MODEL_4971488226ad4215be7523ae69a98129",
            "value": 41
          }
        },
        "1f411fafc9a84691ab802dec196d944d": {
          "model_module": "@jupyter-widgets/controls",
          "model_name": "HTMLModel",
          "model_module_version": "1.5.0",
          "state": {
            "_dom_classes": [],
            "_model_module": "@jupyter-widgets/controls",
            "_model_module_version": "1.5.0",
            "_model_name": "HTMLModel",
            "_view_count": null,
            "_view_module": "@jupyter-widgets/controls",
            "_view_module_version": "1.5.0",
            "_view_name": "HTMLView",
            "description": "",
            "description_tooltip": null,
            "layout": "IPY_MODEL_fd7e03bf13ae4fd7b1e1a390d4008877",
            "placeholder": "​",
            "style": "IPY_MODEL_80d2a7f41fb447398b37221fe3ead4bf",
            "value": " 41/41 [00:00&lt;00:00, 55.75it/s]"
          }
        },
        "fc83886ec3fa4da2ab3a6fca74d0925c": {
          "model_module": "@jupyter-widgets/base",
          "model_name": "LayoutModel",
          "model_module_version": "1.2.0",
          "state": {
            "_model_module": "@jupyter-widgets/base",
            "_model_module_version": "1.2.0",
            "_model_name": "LayoutModel",
            "_view_count": null,
            "_view_module": "@jupyter-widgets/base",
            "_view_module_version": "1.2.0",
            "_view_name": "LayoutView",
            "align_content": null,
            "align_items": null,
            "align_self": null,
            "border": null,
            "bottom": null,
            "display": null,
            "flex": null,
            "flex_flow": null,
            "grid_area": null,
            "grid_auto_columns": null,
            "grid_auto_flow": null,
            "grid_auto_rows": null,
            "grid_column": null,
            "grid_gap": null,
            "grid_row": null,
            "grid_template_areas": null,
            "grid_template_columns": null,
            "grid_template_rows": null,
            "height": null,
            "justify_content": null,
            "justify_items": null,
            "left": null,
            "margin": null,
            "max_height": null,
            "max_width": null,
            "min_height": null,
            "min_width": null,
            "object_fit": null,
            "object_position": null,
            "order": null,
            "overflow": null,
            "overflow_x": null,
            "overflow_y": null,
            "padding": null,
            "right": null,
            "top": null,
            "visibility": null,
            "width": null
          }
        },
        "1c3b03de26fd452ab159332fee82bfe0": {
          "model_module": "@jupyter-widgets/base",
          "model_name": "LayoutModel",
          "model_module_version": "1.2.0",
          "state": {
            "_model_module": "@jupyter-widgets/base",
            "_model_module_version": "1.2.0",
            "_model_name": "LayoutModel",
            "_view_count": null,
            "_view_module": "@jupyter-widgets/base",
            "_view_module_version": "1.2.0",
            "_view_name": "LayoutView",
            "align_content": null,
            "align_items": null,
            "align_self": null,
            "border": null,
            "bottom": null,
            "display": null,
            "flex": null,
            "flex_flow": null,
            "grid_area": null,
            "grid_auto_columns": null,
            "grid_auto_flow": null,
            "grid_auto_rows": null,
            "grid_column": null,
            "grid_gap": null,
            "grid_row": null,
            "grid_template_areas": null,
            "grid_template_columns": null,
            "grid_template_rows": null,
            "height": null,
            "justify_content": null,
            "justify_items": null,
            "left": null,
            "margin": null,
            "max_height": null,
            "max_width": null,
            "min_height": null,
            "min_width": null,
            "object_fit": null,
            "object_position": null,
            "order": null,
            "overflow": null,
            "overflow_x": null,
            "overflow_y": null,
            "padding": null,
            "right": null,
            "top": null,
            "visibility": null,
            "width": null
          }
        },
        "c9cc8ed84ddd4089b614b8c6e18adeac": {
          "model_module": "@jupyter-widgets/controls",
          "model_name": "DescriptionStyleModel",
          "model_module_version": "1.5.0",
          "state": {
            "_model_module": "@jupyter-widgets/controls",
            "_model_module_version": "1.5.0",
            "_model_name": "DescriptionStyleModel",
            "_view_count": null,
            "_view_module": "@jupyter-widgets/base",
            "_view_module_version": "1.2.0",
            "_view_name": "StyleView",
            "description_width": ""
          }
        },
        "4bebeb563d3449a4bd82b63bd3b0cffa": {
          "model_module": "@jupyter-widgets/base",
          "model_name": "LayoutModel",
          "model_module_version": "1.2.0",
          "state": {
            "_model_module": "@jupyter-widgets/base",
            "_model_module_version": "1.2.0",
            "_model_name": "LayoutModel",
            "_view_count": null,
            "_view_module": "@jupyter-widgets/base",
            "_view_module_version": "1.2.0",
            "_view_name": "LayoutView",
            "align_content": null,
            "align_items": null,
            "align_self": null,
            "border": null,
            "bottom": null,
            "display": null,
            "flex": null,
            "flex_flow": null,
            "grid_area": null,
            "grid_auto_columns": null,
            "grid_auto_flow": null,
            "grid_auto_rows": null,
            "grid_column": null,
            "grid_gap": null,
            "grid_row": null,
            "grid_template_areas": null,
            "grid_template_columns": null,
            "grid_template_rows": null,
            "height": null,
            "justify_content": null,
            "justify_items": null,
            "left": null,
            "margin": null,
            "max_height": null,
            "max_width": null,
            "min_height": null,
            "min_width": null,
            "object_fit": null,
            "object_position": null,
            "order": null,
            "overflow": null,
            "overflow_x": null,
            "overflow_y": null,
            "padding": null,
            "right": null,
            "top": null,
            "visibility": null,
            "width": null
          }
        },
        "4971488226ad4215be7523ae69a98129": {
          "model_module": "@jupyter-widgets/controls",
          "model_name": "ProgressStyleModel",
          "model_module_version": "1.5.0",
          "state": {
            "_model_module": "@jupyter-widgets/controls",
            "_model_module_version": "1.5.0",
            "_model_name": "ProgressStyleModel",
            "_view_count": null,
            "_view_module": "@jupyter-widgets/base",
            "_view_module_version": "1.2.0",
            "_view_name": "StyleView",
            "bar_color": null,
            "description_width": ""
          }
        },
        "fd7e03bf13ae4fd7b1e1a390d4008877": {
          "model_module": "@jupyter-widgets/base",
          "model_name": "LayoutModel",
          "model_module_version": "1.2.0",
          "state": {
            "_model_module": "@jupyter-widgets/base",
            "_model_module_version": "1.2.0",
            "_model_name": "LayoutModel",
            "_view_count": null,
            "_view_module": "@jupyter-widgets/base",
            "_view_module_version": "1.2.0",
            "_view_name": "LayoutView",
            "align_content": null,
            "align_items": null,
            "align_self": null,
            "border": null,
            "bottom": null,
            "display": null,
            "flex": null,
            "flex_flow": null,
            "grid_area": null,
            "grid_auto_columns": null,
            "grid_auto_flow": null,
            "grid_auto_rows": null,
            "grid_column": null,
            "grid_gap": null,
            "grid_row": null,
            "grid_template_areas": null,
            "grid_template_columns": null,
            "grid_template_rows": null,
            "height": null,
            "justify_content": null,
            "justify_items": null,
            "left": null,
            "margin": null,
            "max_height": null,
            "max_width": null,
            "min_height": null,
            "min_width": null,
            "object_fit": null,
            "object_position": null,
            "order": null,
            "overflow": null,
            "overflow_x": null,
            "overflow_y": null,
            "padding": null,
            "right": null,
            "top": null,
            "visibility": null,
            "width": null
          }
        },
        "80d2a7f41fb447398b37221fe3ead4bf": {
          "model_module": "@jupyter-widgets/controls",
          "model_name": "DescriptionStyleModel",
          "model_module_version": "1.5.0",
          "state": {
            "_model_module": "@jupyter-widgets/controls",
            "_model_module_version": "1.5.0",
            "_model_name": "DescriptionStyleModel",
            "_view_count": null,
            "_view_module": "@jupyter-widgets/base",
            "_view_module_version": "1.2.0",
            "_view_name": "StyleView",
            "description_width": ""
          }
        },
        "2ac499ea7a9e4e32b8c4bc3920638f57": {
          "model_module": "@jupyter-widgets/controls",
          "model_name": "HBoxModel",
          "model_module_version": "1.5.0",
          "state": {
            "_dom_classes": [],
            "_model_module": "@jupyter-widgets/controls",
            "_model_module_version": "1.5.0",
            "_model_name": "HBoxModel",
            "_view_count": null,
            "_view_module": "@jupyter-widgets/controls",
            "_view_module_version": "1.5.0",
            "_view_name": "HBoxView",
            "box_style": "",
            "children": [
              "IPY_MODEL_2012a9ec385d40888ef38739f65d7988",
              "IPY_MODEL_2082d99b92db4f99bfd1c711f416d16e",
              "IPY_MODEL_98dfdd6fb7524fc68cea50a11d4ee8d7"
            ],
            "layout": "IPY_MODEL_abf088f5d1cd415c8774ad47c37fb70a"
          }
        },
        "2012a9ec385d40888ef38739f65d7988": {
          "model_module": "@jupyter-widgets/controls",
          "model_name": "HTMLModel",
          "model_module_version": "1.5.0",
          "state": {
            "_dom_classes": [],
            "_model_module": "@jupyter-widgets/controls",
            "_model_module_version": "1.5.0",
            "_model_name": "HTMLModel",
            "_view_count": null,
            "_view_module": "@jupyter-widgets/controls",
            "_view_module_version": "1.5.0",
            "_view_name": "HTMLView",
            "description": "",
            "description_tooltip": null,
            "layout": "IPY_MODEL_5eee40cebb8d44ec8b9b9e407f262d8f",
            "placeholder": "​",
            "style": "IPY_MODEL_3957485e0db546e8a92e7f687f5239c1",
            "value": "Loading dataset shards: 100%"
          }
        },
        "2082d99b92db4f99bfd1c711f416d16e": {
          "model_module": "@jupyter-widgets/controls",
          "model_name": "FloatProgressModel",
          "model_module_version": "1.5.0",
          "state": {
            "_dom_classes": [],
            "_model_module": "@jupyter-widgets/controls",
            "_model_module_version": "1.5.0",
            "_model_name": "FloatProgressModel",
            "_view_count": null,
            "_view_module": "@jupyter-widgets/controls",
            "_view_module_version": "1.5.0",
            "_view_name": "ProgressView",
            "bar_style": "success",
            "description": "",
            "description_tooltip": null,
            "layout": "IPY_MODEL_ad22275c4bb14671a9e9aceda01ae7ed",
            "max": 41,
            "min": 0,
            "orientation": "horizontal",
            "style": "IPY_MODEL_b6efced8870946ec90043b4ef3ff8681",
            "value": 41
          }
        },
        "98dfdd6fb7524fc68cea50a11d4ee8d7": {
          "model_module": "@jupyter-widgets/controls",
          "model_name": "HTMLModel",
          "model_module_version": "1.5.0",
          "state": {
            "_dom_classes": [],
            "_model_module": "@jupyter-widgets/controls",
            "_model_module_version": "1.5.0",
            "_model_name": "HTMLModel",
            "_view_count": null,
            "_view_module": "@jupyter-widgets/controls",
            "_view_module_version": "1.5.0",
            "_view_name": "HTMLView",
            "description": "",
            "description_tooltip": null,
            "layout": "IPY_MODEL_e4236b0210c24cdf858156a989b0d851",
            "placeholder": "​",
            "style": "IPY_MODEL_944a0a2a62104cebad0490cb7743f4dc",
            "value": " 41/41 [01:06&lt;00:00,  1.41it/s]"
          }
        },
        "abf088f5d1cd415c8774ad47c37fb70a": {
          "model_module": "@jupyter-widgets/base",
          "model_name": "LayoutModel",
          "model_module_version": "1.2.0",
          "state": {
            "_model_module": "@jupyter-widgets/base",
            "_model_module_version": "1.2.0",
            "_model_name": "LayoutModel",
            "_view_count": null,
            "_view_module": "@jupyter-widgets/base",
            "_view_module_version": "1.2.0",
            "_view_name": "LayoutView",
            "align_content": null,
            "align_items": null,
            "align_self": null,
            "border": null,
            "bottom": null,
            "display": null,
            "flex": null,
            "flex_flow": null,
            "grid_area": null,
            "grid_auto_columns": null,
            "grid_auto_flow": null,
            "grid_auto_rows": null,
            "grid_column": null,
            "grid_gap": null,
            "grid_row": null,
            "grid_template_areas": null,
            "grid_template_columns": null,
            "grid_template_rows": null,
            "height": null,
            "justify_content": null,
            "justify_items": null,
            "left": null,
            "margin": null,
            "max_height": null,
            "max_width": null,
            "min_height": null,
            "min_width": null,
            "object_fit": null,
            "object_position": null,
            "order": null,
            "overflow": null,
            "overflow_x": null,
            "overflow_y": null,
            "padding": null,
            "right": null,
            "top": null,
            "visibility": null,
            "width": null
          }
        },
        "5eee40cebb8d44ec8b9b9e407f262d8f": {
          "model_module": "@jupyter-widgets/base",
          "model_name": "LayoutModel",
          "model_module_version": "1.2.0",
          "state": {
            "_model_module": "@jupyter-widgets/base",
            "_model_module_version": "1.2.0",
            "_model_name": "LayoutModel",
            "_view_count": null,
            "_view_module": "@jupyter-widgets/base",
            "_view_module_version": "1.2.0",
            "_view_name": "LayoutView",
            "align_content": null,
            "align_items": null,
            "align_self": null,
            "border": null,
            "bottom": null,
            "display": null,
            "flex": null,
            "flex_flow": null,
            "grid_area": null,
            "grid_auto_columns": null,
            "grid_auto_flow": null,
            "grid_auto_rows": null,
            "grid_column": null,
            "grid_gap": null,
            "grid_row": null,
            "grid_template_areas": null,
            "grid_template_columns": null,
            "grid_template_rows": null,
            "height": null,
            "justify_content": null,
            "justify_items": null,
            "left": null,
            "margin": null,
            "max_height": null,
            "max_width": null,
            "min_height": null,
            "min_width": null,
            "object_fit": null,
            "object_position": null,
            "order": null,
            "overflow": null,
            "overflow_x": null,
            "overflow_y": null,
            "padding": null,
            "right": null,
            "top": null,
            "visibility": null,
            "width": null
          }
        },
        "3957485e0db546e8a92e7f687f5239c1": {
          "model_module": "@jupyter-widgets/controls",
          "model_name": "DescriptionStyleModel",
          "model_module_version": "1.5.0",
          "state": {
            "_model_module": "@jupyter-widgets/controls",
            "_model_module_version": "1.5.0",
            "_model_name": "DescriptionStyleModel",
            "_view_count": null,
            "_view_module": "@jupyter-widgets/base",
            "_view_module_version": "1.2.0",
            "_view_name": "StyleView",
            "description_width": ""
          }
        },
        "ad22275c4bb14671a9e9aceda01ae7ed": {
          "model_module": "@jupyter-widgets/base",
          "model_name": "LayoutModel",
          "model_module_version": "1.2.0",
          "state": {
            "_model_module": "@jupyter-widgets/base",
            "_model_module_version": "1.2.0",
            "_model_name": "LayoutModel",
            "_view_count": null,
            "_view_module": "@jupyter-widgets/base",
            "_view_module_version": "1.2.0",
            "_view_name": "LayoutView",
            "align_content": null,
            "align_items": null,
            "align_self": null,
            "border": null,
            "bottom": null,
            "display": null,
            "flex": null,
            "flex_flow": null,
            "grid_area": null,
            "grid_auto_columns": null,
            "grid_auto_flow": null,
            "grid_auto_rows": null,
            "grid_column": null,
            "grid_gap": null,
            "grid_row": null,
            "grid_template_areas": null,
            "grid_template_columns": null,
            "grid_template_rows": null,
            "height": null,
            "justify_content": null,
            "justify_items": null,
            "left": null,
            "margin": null,
            "max_height": null,
            "max_width": null,
            "min_height": null,
            "min_width": null,
            "object_fit": null,
            "object_position": null,
            "order": null,
            "overflow": null,
            "overflow_x": null,
            "overflow_y": null,
            "padding": null,
            "right": null,
            "top": null,
            "visibility": null,
            "width": null
          }
        },
        "b6efced8870946ec90043b4ef3ff8681": {
          "model_module": "@jupyter-widgets/controls",
          "model_name": "ProgressStyleModel",
          "model_module_version": "1.5.0",
          "state": {
            "_model_module": "@jupyter-widgets/controls",
            "_model_module_version": "1.5.0",
            "_model_name": "ProgressStyleModel",
            "_view_count": null,
            "_view_module": "@jupyter-widgets/base",
            "_view_module_version": "1.2.0",
            "_view_name": "StyleView",
            "bar_color": null,
            "description_width": ""
          }
        },
        "e4236b0210c24cdf858156a989b0d851": {
          "model_module": "@jupyter-widgets/base",
          "model_name": "LayoutModel",
          "model_module_version": "1.2.0",
          "state": {
            "_model_module": "@jupyter-widgets/base",
            "_model_module_version": "1.2.0",
            "_model_name": "LayoutModel",
            "_view_count": null,
            "_view_module": "@jupyter-widgets/base",
            "_view_module_version": "1.2.0",
            "_view_name": "LayoutView",
            "align_content": null,
            "align_items": null,
            "align_self": null,
            "border": null,
            "bottom": null,
            "display": null,
            "flex": null,
            "flex_flow": null,
            "grid_area": null,
            "grid_auto_columns": null,
            "grid_auto_flow": null,
            "grid_auto_rows": null,
            "grid_column": null,
            "grid_gap": null,
            "grid_row": null,
            "grid_template_areas": null,
            "grid_template_columns": null,
            "grid_template_rows": null,
            "height": null,
            "justify_content": null,
            "justify_items": null,
            "left": null,
            "margin": null,
            "max_height": null,
            "max_width": null,
            "min_height": null,
            "min_width": null,
            "object_fit": null,
            "object_position": null,
            "order": null,
            "overflow": null,
            "overflow_x": null,
            "overflow_y": null,
            "padding": null,
            "right": null,
            "top": null,
            "visibility": null,
            "width": null
          }
        },
        "944a0a2a62104cebad0490cb7743f4dc": {
          "model_module": "@jupyter-widgets/controls",
          "model_name": "DescriptionStyleModel",
          "model_module_version": "1.5.0",
          "state": {
            "_model_module": "@jupyter-widgets/controls",
            "_model_module_version": "1.5.0",
            "_model_name": "DescriptionStyleModel",
            "_view_count": null,
            "_view_module": "@jupyter-widgets/base",
            "_view_module_version": "1.2.0",
            "_view_name": "StyleView",
            "description_width": ""
          }
        }
      }
    }
  },
  "cells": [
    {
      "cell_type": "markdown",
      "metadata": {
        "id": "view-in-github",
        "colab_type": "text"
      },
      "source": [
        "<a href=\"https://colab.research.google.com/github/debayan1405/TREC-TOT-2025/blob/main/query_reformulation_expansion_indexing_generation.ipynb\" target=\"_parent\"><img src=\"https://colab.research.google.com/assets/colab-badge.svg\" alt=\"Open In Colab\"/></a>"
      ]
    },
    {
      "cell_type": "markdown",
      "source": [
        "# Dependency Imports:"
      ],
      "metadata": {
        "id": "g_zSWXGF_AR9"
      }
    },
    {
      "cell_type": "code",
      "source": [
        "! pip install python-terrier"
      ],
      "metadata": {
        "colab": {
          "base_uri": "https://localhost:8080/",
          "height": 1000
        },
        "id": "BvynJpm1_NLZ",
        "outputId": "3d316a09-9412-4034-a6a6-3547c0b9135e"
      },
      "execution_count": null,
      "outputs": [
        {
          "output_type": "stream",
          "name": "stdout",
          "text": [
            "Collecting python-terrier\n",
            "  Downloading python_terrier-0.13.1-py3-none-any.whl.metadata (11 kB)\n",
            "Requirement already satisfied: numpy in /usr/local/lib/python3.11/dist-packages (from python-terrier) (2.0.2)\n",
            "Requirement already satisfied: pandas in /usr/local/lib/python3.11/dist-packages (from python-terrier) (2.2.2)\n",
            "Requirement already satisfied: more-itertools in /usr/local/lib/python3.11/dist-packages (from python-terrier) (10.7.0)\n",
            "Requirement already satisfied: tqdm in /usr/local/lib/python3.11/dist-packages (from python-terrier) (4.67.1)\n",
            "Requirement already satisfied: requests in /usr/local/lib/python3.11/dist-packages (from python-terrier) (2.32.3)\n",
            "Collecting ir-datasets>=0.3.2 (from python-terrier)\n",
            "  Downloading ir_datasets-0.5.11-py3-none-any.whl.metadata (12 kB)\n",
            "Collecting pyjnius>=1.4.2 (from python-terrier)\n",
            "  Downloading pyjnius-1.6.1-cp311-cp311-manylinux_2_17_x86_64.manylinux2014_x86_64.whl.metadata (10 kB)\n",
            "Collecting deprecated (from python-terrier)\n",
            "  Downloading Deprecated-1.2.18-py2.py3-none-any.whl.metadata (5.7 kB)\n",
            "Requirement already satisfied: scipy in /usr/local/lib/python3.11/dist-packages (from python-terrier) (1.16.0)\n",
            "Collecting ir-measures>=0.3.1 (from python-terrier)\n",
            "  Downloading ir_measures-0.3.7-py3-none-any.whl.metadata (7.0 kB)\n",
            "Collecting pytrec-eval-terrier>=0.5.3 (from python-terrier)\n",
            "  Downloading pytrec_eval_terrier-0.5.7-cp311-cp311-manylinux_2_17_x86_64.manylinux2014_x86_64.whl.metadata (984 bytes)\n",
            "Requirement already satisfied: jinja2 in /usr/local/lib/python3.11/dist-packages (from python-terrier) (3.1.6)\n",
            "Requirement already satisfied: statsmodels in /usr/local/lib/python3.11/dist-packages (from python-terrier) (0.14.5)\n",
            "Requirement already satisfied: dill in /usr/local/lib/python3.11/dist-packages (from python-terrier) (0.3.8)\n",
            "Requirement already satisfied: joblib in /usr/local/lib/python3.11/dist-packages (from python-terrier) (1.5.1)\n",
            "Collecting chest (from python-terrier)\n",
            "  Downloading chest-0.2.3.tar.gz (9.6 kB)\n",
            "  Preparing metadata (setup.py) ... \u001b[?25l\u001b[?25hdone\n",
            "Collecting lz4 (from python-terrier)\n",
            "  Downloading lz4-4.4.4-cp311-cp311-manylinux_2_17_x86_64.manylinux2014_x86_64.whl.metadata (3.8 kB)\n",
            "Requirement already satisfied: beautifulsoup4>=4.4.1 in /usr/local/lib/python3.11/dist-packages (from ir-datasets>=0.3.2->python-terrier) (4.13.4)\n",
            "Collecting inscriptis>=2.2.0 (from ir-datasets>=0.3.2->python-terrier)\n",
            "  Downloading inscriptis-2.6.0-py3-none-any.whl.metadata (25 kB)\n",
            "Requirement already satisfied: lxml>=4.5.2 in /usr/local/lib/python3.11/dist-packages (from ir-datasets>=0.3.2->python-terrier) (5.4.0)\n",
            "Requirement already satisfied: pyyaml>=5.3.1 in /usr/local/lib/python3.11/dist-packages (from ir-datasets>=0.3.2->python-terrier) (6.0.2)\n",
            "Collecting trec-car-tools>=2.5.4 (from ir-datasets>=0.3.2->python-terrier)\n",
            "  Downloading trec_car_tools-2.6-py3-none-any.whl.metadata (640 bytes)\n",
            "Collecting warc3-wet>=0.2.3 (from ir-datasets>=0.3.2->python-terrier)\n",
            "  Downloading warc3_wet-0.2.5-py3-none-any.whl.metadata (2.2 kB)\n",
            "Collecting warc3-wet-clueweb09>=0.2.5 (from ir-datasets>=0.3.2->python-terrier)\n",
            "  Downloading warc3-wet-clueweb09-0.2.5.tar.gz (17 kB)\n",
            "  Preparing metadata (setup.py) ... \u001b[?25l\u001b[?25hdone\n",
            "Collecting zlib-state>=0.1.3 (from ir-datasets>=0.3.2->python-terrier)\n",
            "  Downloading zlib_state-0.1.9-cp311-cp311-manylinux_2_17_x86_64.manylinux2014_x86_64.whl.metadata (3.3 kB)\n",
            "Collecting ijson>=3.1.3 (from ir-datasets>=0.3.2->python-terrier)\n",
            "  Downloading ijson-3.4.0-cp311-cp311-manylinux_2_17_x86_64.manylinux2014_x86_64.whl.metadata (21 kB)\n",
            "Collecting unlzw3>=0.2.1 (from ir-datasets>=0.3.2->python-terrier)\n",
            "  Downloading unlzw3-0.2.3-py3-none-any.whl.metadata (2.3 kB)\n",
            "Requirement already satisfied: pyarrow>=16.1.0 in /usr/local/lib/python3.11/dist-packages (from ir-datasets>=0.3.2->python-terrier) (18.1.0)\n",
            "Requirement already satisfied: charset-normalizer<4,>=2 in /usr/local/lib/python3.11/dist-packages (from requests->python-terrier) (3.4.2)\n",
            "Requirement already satisfied: idna<4,>=2.5 in /usr/local/lib/python3.11/dist-packages (from requests->python-terrier) (3.10)\n",
            "Requirement already satisfied: urllib3<3,>=1.21.1 in /usr/local/lib/python3.11/dist-packages (from requests->python-terrier) (2.5.0)\n",
            "Requirement already satisfied: certifi>=2017.4.17 in /usr/local/lib/python3.11/dist-packages (from requests->python-terrier) (2025.7.14)\n",
            "Collecting heapdict (from chest->python-terrier)\n",
            "  Downloading HeapDict-1.0.1-py3-none-any.whl.metadata (1.9 kB)\n",
            "Requirement already satisfied: wrapt<2,>=1.10 in /usr/local/lib/python3.11/dist-packages (from deprecated->python-terrier) (1.17.2)\n",
            "Requirement already satisfied: MarkupSafe>=2.0 in /usr/local/lib/python3.11/dist-packages (from jinja2->python-terrier) (3.0.2)\n",
            "Requirement already satisfied: python-dateutil>=2.8.2 in /usr/local/lib/python3.11/dist-packages (from pandas->python-terrier) (2.9.0.post0)\n",
            "Requirement already satisfied: pytz>=2020.1 in /usr/local/lib/python3.11/dist-packages (from pandas->python-terrier) (2025.2)\n",
            "Requirement already satisfied: tzdata>=2022.7 in /usr/local/lib/python3.11/dist-packages (from pandas->python-terrier) (2025.2)\n",
            "Requirement already satisfied: patsy>=0.5.6 in /usr/local/lib/python3.11/dist-packages (from statsmodels->python-terrier) (1.0.1)\n",
            "Requirement already satisfied: packaging>=21.3 in /usr/local/lib/python3.11/dist-packages (from statsmodels->python-terrier) (25.0)\n",
            "Requirement already satisfied: soupsieve>1.2 in /usr/local/lib/python3.11/dist-packages (from beautifulsoup4>=4.4.1->ir-datasets>=0.3.2->python-terrier) (2.7)\n",
            "Requirement already satisfied: typing-extensions>=4.0.0 in /usr/local/lib/python3.11/dist-packages (from beautifulsoup4>=4.4.1->ir-datasets>=0.3.2->python-terrier) (4.14.1)\n",
            "Requirement already satisfied: six>=1.5 in /usr/local/lib/python3.11/dist-packages (from python-dateutil>=2.8.2->pandas->python-terrier) (1.17.0)\n",
            "Collecting cbor>=1.0.0 (from trec-car-tools>=2.5.4->ir-datasets>=0.3.2->python-terrier)\n",
            "  Downloading cbor-1.0.0.tar.gz (20 kB)\n",
            "  Preparing metadata (setup.py) ... \u001b[?25l\u001b[?25hdone\n",
            "Downloading python_terrier-0.13.1-py3-none-any.whl (167 kB)\n",
            "\u001b[2K   \u001b[90m━━━━━━━━━━━━━━━━━━━━━━━━━━━━━━━━━━━━━━━━\u001b[0m \u001b[32m167.5/167.5 kB\u001b[0m \u001b[31m4.9 MB/s\u001b[0m eta \u001b[36m0:00:00\u001b[0m\n",
            "\u001b[?25hDownloading ir_datasets-0.5.11-py3-none-any.whl (866 kB)\n",
            "\u001b[2K   \u001b[90m━━━━━━━━━━━━━━━━━━━━━━━━━━━━━━━━━━━━━━━━\u001b[0m \u001b[32m866.1/866.1 kB\u001b[0m \u001b[31m23.5 MB/s\u001b[0m eta \u001b[36m0:00:00\u001b[0m\n",
            "\u001b[?25hDownloading ir_measures-0.3.7-py3-none-any.whl (60 kB)\n",
            "\u001b[2K   \u001b[90m━━━━━━━━━━━━━━━━━━━━━━━━━━━━━━━━━━━━━━━━\u001b[0m \u001b[32m60.1/60.1 kB\u001b[0m \u001b[31m3.3 MB/s\u001b[0m eta \u001b[36m0:00:00\u001b[0m\n",
            "\u001b[?25hDownloading lz4-4.4.4-cp311-cp311-manylinux_2_17_x86_64.manylinux2014_x86_64.whl (1.3 MB)\n",
            "\u001b[2K   \u001b[90m━━━━━━━━━━━━━━━━━━━━━━━━━━━━━━━━━━━━━━━━\u001b[0m \u001b[32m1.3/1.3 MB\u001b[0m \u001b[31m42.8 MB/s\u001b[0m eta \u001b[36m0:00:00\u001b[0m\n",
            "\u001b[?25hDownloading pyjnius-1.6.1-cp311-cp311-manylinux_2_17_x86_64.manylinux2014_x86_64.whl (1.6 MB)\n",
            "\u001b[2K   \u001b[90m━━━━━━━━━━━━━━━━━━━━━━━━━━━━━━━━━━━━━━━━\u001b[0m \u001b[32m1.6/1.6 MB\u001b[0m \u001b[31m60.0 MB/s\u001b[0m eta \u001b[36m0:00:00\u001b[0m\n",
            "\u001b[?25hDownloading pytrec_eval_terrier-0.5.7-cp311-cp311-manylinux_2_17_x86_64.manylinux2014_x86_64.whl (287 kB)\n",
            "\u001b[2K   \u001b[90m━━━━━━━━━━━━━━━━━━━━━━━━━━━━━━━━━━━━━━━━\u001b[0m \u001b[32m288.0/288.0 kB\u001b[0m \u001b[31m12.0 MB/s\u001b[0m eta \u001b[36m0:00:00\u001b[0m\n",
            "\u001b[?25hDownloading Deprecated-1.2.18-py2.py3-none-any.whl (10.0 kB)\n",
            "Downloading ijson-3.4.0-cp311-cp311-manylinux_2_17_x86_64.manylinux2014_x86_64.whl (134 kB)\n",
            "\u001b[2K   \u001b[90m━━━━━━━━━━━━━━━━━━━━━━━━━━━━━━━━━━━━━━━━\u001b[0m \u001b[32m135.0/135.0 kB\u001b[0m \u001b[31m8.6 MB/s\u001b[0m eta \u001b[36m0:00:00\u001b[0m\n",
            "\u001b[?25hDownloading inscriptis-2.6.0-py3-none-any.whl (45 kB)\n",
            "\u001b[2K   \u001b[90m━━━━━━━━━━━━━━━━━━━━━━━━━━━━━━━━━━━━━━━━\u001b[0m \u001b[32m45.1/45.1 kB\u001b[0m \u001b[31m2.7 MB/s\u001b[0m eta \u001b[36m0:00:00\u001b[0m\n",
            "\u001b[?25hDownloading trec_car_tools-2.6-py3-none-any.whl (8.4 kB)\n",
            "Downloading unlzw3-0.2.3-py3-none-any.whl (6.7 kB)\n",
            "Downloading warc3_wet-0.2.5-py3-none-any.whl (18 kB)\n",
            "Downloading zlib_state-0.1.9-cp311-cp311-manylinux_2_17_x86_64.manylinux2014_x86_64.whl (21 kB)\n",
            "Downloading HeapDict-1.0.1-py3-none-any.whl (3.9 kB)\n",
            "Building wheels for collected packages: chest, warc3-wet-clueweb09, cbor\n",
            "  Building wheel for chest (setup.py) ... \u001b[?25l\u001b[?25hdone\n",
            "  Created wheel for chest: filename=chest-0.2.3-py3-none-any.whl size=7611 sha256=a0f863127aa2b5e5b7d698ca5914ef3d817e5a0cf2faa3a009995932c9840346\n",
            "  Stored in directory: /root/.cache/pip/wheels/48/57/13/28831e81239278141f874ee9b7d6d5490a1b1191c2d07a3e73\n",
            "  Building wheel for warc3-wet-clueweb09 (setup.py) ... \u001b[?25l\u001b[?25hdone\n",
            "  Created wheel for warc3-wet-clueweb09: filename=warc3_wet_clueweb09-0.2.5-py3-none-any.whl size=18919 sha256=b46d606d79326c9f639c08c0fe0f475ad0077326d06c1328dbebca504fbe6a82\n",
            "  Stored in directory: /root/.cache/pip/wheels/63/f9/dc/2dd16d3330e327236e4d407941975c42d5159d200cdb7922d8\n",
            "  Building wheel for cbor (setup.py) ... \u001b[?25l\u001b[?25hdone\n",
            "  Created wheel for cbor: filename=cbor-1.0.0-cp311-cp311-linux_x86_64.whl size=53933 sha256=6be51ff686196894e6357f462b1a241dbab626c0c66dbb0699e6bdcc3f15f7f6\n",
            "  Stored in directory: /root/.cache/pip/wheels/21/6b/45/0c34253b1af07d1d9dc524f6d44d74a6b191c43152e6aaf641\n",
            "Successfully built chest warc3-wet-clueweb09 cbor\n",
            "Installing collected packages: warc3-wet-clueweb09, warc3-wet, pyjnius, heapdict, cbor, zlib-state, unlzw3, trec-car-tools, pytrec-eval-terrier, lz4, ijson, deprecated, chest, ir-measures, inscriptis, ir-datasets, python-terrier\n",
            "Successfully installed cbor-1.0.0 chest-0.2.3 deprecated-1.2.18 heapdict-1.0.1 ijson-3.4.0 inscriptis-2.6.0 ir-datasets-0.5.11 ir-measures-0.3.7 lz4-4.4.4 pyjnius-1.6.1 python-terrier-0.13.1 pytrec-eval-terrier-0.5.7 trec-car-tools-2.6 unlzw3-0.2.3 warc3-wet-0.2.5 warc3-wet-clueweb09-0.2.5 zlib-state-0.1.9\n"
          ]
        },
        {
          "output_type": "display_data",
          "data": {
            "application/vnd.colab-display-data+json": {
              "pip_warning": {
                "packages": [
                  "pyterrier"
                ]
              },
              "id": "08ff2a067c024f8d93998ec093ca7192"
            }
          },
          "metadata": {}
        }
      ]
    },
    {
      "cell_type": "code",
      "source": [
        "from datasets import load_dataset\n",
        "import pandas as pd\n",
        "from tqdm import tqdm\n",
        "import os\n",
        "\n",
        "import pyterrier as pt\n",
        "if not pt.started():\n",
        "    pt.init()"
      ],
      "metadata": {
        "colab": {
          "base_uri": "https://localhost:8080/"
        },
        "id": "djDET5Yd_D8m",
        "outputId": "b313a8c4-a5e1-42ac-eacf-a38513038ca6"
      },
      "execution_count": null,
      "outputs": [
        {
          "output_type": "stream",
          "name": "stderr",
          "text": [
            "/tmp/ipython-input-3932854493.py:7: DeprecationWarning: Call to deprecated function (or staticmethod) started. (use pt.java.started() instead) -- Deprecated since version 0.11.0.\n",
            "  if not pt.started():\n"
          ]
        }
      ]
    },
    {
      "cell_type": "markdown",
      "source": [
        "# Dataset Description and Preliminary Preprocessing:"
      ],
      "metadata": {
        "id": "xf6BsD1bxOQ0"
      }
    },
    {
      "cell_type": "markdown",
      "source": [
        "Our goal is to provided a ranked subset of 1000 documents from the Wikipedia Corpus which is a subset of Wikipedia pages containing the relevant items for all ToT queries in the training, development, and test sets.\n",
        "\n",
        "Each document in this corpus has the following attributes:\n",
        "* `doc_id`: the primary identifier, the Wikipedia page ID.\n",
        "* `url`: the wikipedia page URL.\n",
        "* `title`: wikipedia page title.\n",
        "* `text`: The full text of the wikipedia page.\n",
        "\n",
        "An example of the above document is as follows:\n",
        "```\n",
        "{\n",
        "  \"id\": \"846\",\n",
        "  \"url\": \"https://en.wikipedia.org/wiki/Museum%20of%20Work\",\n",
        "  \"title\": \"Museum of Work\",\n",
        "  \"text\": \"The Museum of Work (Arbetets museum) is a museum located in Norrköping, Sweden. The museum is located in the Strykjärn (Clothes iron), a former weaving mill in the old industrial area on the Motala ström river in the city centre of Norrköping. The former textile factory Holmens Bruk (sv) operated in the building from 1917 to 1962.\"\n",
        "}\n",
        "```\n",
        "\n",
        "We will be utilizing Hugging Face Datasets library in order to access this corpus: https://huggingface.co/datasets/wikimedia/wikipedia\n",
        "\n",
        "_It can also be downloaded and used locally but the file size is ~8GB_"
      ],
      "metadata": {
        "id": "0hGaICQ7-4vH"
      }
    },
    {
      "cell_type": "markdown",
      "source": [
        "* We will be dealing with a DatasetDict from the 🤗 Hugging Face Datasets library.\n",
        "\n",
        "* A DatasetDict is essentially a dictionary-like object where the keys are dataset splits (like \"train\", \"validation\", \"test\") and the values are Dataset objects.\n",
        "\n",
        "* Each Dataset is like a lightweight table (internally columnar using Apache Arrow) and can be converted to a Pandas DataFrame if needed.\n",
        "\n",
        "An example structure is as follows:\n",
        "```\n",
        "wik_corp = {\n",
        "    'train': Dataset,\n",
        "    'validation': Dataset\n",
        "}\n",
        "```\n",
        "\n",
        "However, here we only have the `train` split"
      ],
      "metadata": {
        "id": "sGXT4SH-5Ump"
      }
    },
    {
      "cell_type": "code",
      "source": [
        "# It is recommended to run `pip install datasets` but as I am on Colab, the requirement is already satisfied:\n",
        "\n",
        "wik_corp = load_dataset(\"wikimedia/wikipedia\", \"20231101.en\")\n",
        "print(wik_corp['train'][134])"
      ],
      "metadata": {
        "colab": {
          "base_uri": "https://localhost:8080/",
          "height": 223,
          "referenced_widgets": [
            "c7b452672bd0492a83b0e1d7477b5764",
            "30b965d3df6145eaa39ef8a67216f217",
            "46efc55186284c4fbca713d58da4e34b",
            "1f411fafc9a84691ab802dec196d944d",
            "fc83886ec3fa4da2ab3a6fca74d0925c",
            "1c3b03de26fd452ab159332fee82bfe0",
            "c9cc8ed84ddd4089b614b8c6e18adeac",
            "4bebeb563d3449a4bd82b63bd3b0cffa",
            "4971488226ad4215be7523ae69a98129",
            "fd7e03bf13ae4fd7b1e1a390d4008877",
            "80d2a7f41fb447398b37221fe3ead4bf",
            "2ac499ea7a9e4e32b8c4bc3920638f57",
            "2012a9ec385d40888ef38739f65d7988",
            "2082d99b92db4f99bfd1c711f416d16e",
            "98dfdd6fb7524fc68cea50a11d4ee8d7",
            "abf088f5d1cd415c8774ad47c37fb70a",
            "5eee40cebb8d44ec8b9b9e407f262d8f",
            "3957485e0db546e8a92e7f687f5239c1",
            "ad22275c4bb14671a9e9aceda01ae7ed",
            "b6efced8870946ec90043b4ef3ff8681",
            "e4236b0210c24cdf858156a989b0d851",
            "944a0a2a62104cebad0490cb7743f4dc"
          ]
        },
        "id": "0HP0sfDnyqsj",
        "outputId": "ba055b2f-73e2-41dd-933f-462faf0b524a"
      },
      "execution_count": null,
      "outputs": [
        {
          "output_type": "stream",
          "name": "stderr",
          "text": [
            "/usr/local/lib/python3.11/dist-packages/huggingface_hub/utils/_auth.py:94: UserWarning: \n",
            "The secret `HF_TOKEN` does not exist in your Colab secrets.\n",
            "To authenticate with the Hugging Face Hub, create a token in your settings tab (https://huggingface.co/settings/tokens), set it as secret in your Google Colab and restart your session.\n",
            "You will be able to reuse this secret in all of your notebooks.\n",
            "Please note that authentication is recommended but still optional to access public models or datasets.\n",
            "  warnings.warn(\n"
          ]
        },
        {
          "output_type": "display_data",
          "data": {
            "text/plain": [
              "Resolving data files:   0%|          | 0/41 [00:00<?, ?it/s]"
            ],
            "application/vnd.jupyter.widget-view+json": {
              "version_major": 2,
              "version_minor": 0,
              "model_id": "c7b452672bd0492a83b0e1d7477b5764"
            }
          },
          "metadata": {}
        },
        {
          "output_type": "display_data",
          "data": {
            "text/plain": [
              "Loading dataset shards:   0%|          | 0/41 [00:00<?, ?it/s]"
            ],
            "application/vnd.jupyter.widget-view+json": {
              "version_major": 2,
              "version_minor": 0,
              "model_id": "2ac499ea7a9e4e32b8c4bc3920638f57"
            }
          },
          "metadata": {}
        },
        {
          "output_type": "stream",
          "name": "stdout",
          "text": [
            "{'id': '846', 'url': 'https://en.wikipedia.org/wiki/Museum%20of%20Work', 'title': 'Museum of Work', 'text': \"The Museum of Work (Arbetets museum) is a museum located in Norrköping, Sweden. The museum is located in the Strykjärn (Clothes iron), a former weaving mill in the old industrial area on the Motala ström river in the city centre of Norrköping. The former textile factory Holmens Bruk (sv) operated in the building from 1917 to 1962.\\n\\nThe museum documents work and everyday life by collecting personal stories about people's professional lives from both the past and the present. The museum's archive contain material from memory collections and documentation projects.\\n\\nSince 2009, the museum also houses the EWK – Center for Political Illustration Art, which is based on work of the satirist Ewert Karlsson (1918–2004). For decades he was frequently published in the Swedish tabloid, Aftonbladet.\\n\\nOverview \\nThe museum is a national central museum with the task of preserving and telling about work and everyday life. It has, among other things, exhibitions on the terms and conditions of the work and the history of the industrial society. The museum is also known to highlight gender perspective in their exhibitions.\\n\\nThe work museum documents work and everyday life by collecting personal stories, including people's professional life from both the past and present. In the museum's archive, there is a rich material of memory collections and documentation projects – over 2600 interviews, stories and photodocumentations have been collected since the museum opened.\\n\\nThe museum is also a support for the country's approximately 1,500 working life museums that are old workplaces preserved to convey their history.\\n\\nExhibitions \\nThe Museum of Work shows exhibitions going on over several years, but also shorter exhibitions – including several photo exhibitions on themes that can be linked to work and everyday life.\\n\\nThe history of Alva \\nThe history of Alva Karlsson is the only exhibition in the museum that is permanent. The exhibition connects to the museum's building and its history as part of the textile industry in Norrköping. Alva worked as a rollers between the years 1927 – 1962.\\n\\nIndustriland \\nOne of the museum long-term exhibitions is Industriland – when Sweden became modern, the exhibition was in 2007–2013 and consisted of an ongoing bond with various objects that were somehow significant both for working life and everyday during the period 1930–1980. The exhibition also consisted of presentations of the working life museums in Sweden and a number of rooms with themes such as: leisure, world, living and consumption.\\n\\nFramtidsland (Future country) \\nIn 2014, the exhibition was inaugurated that takes by where Industriland ends: Future country. It is an exhibition that investigates what a sustainable society is will be part of the museum's exhibitions until 2019. The exhibition consists of materials that are designed based on conversations between young people and researchers around Sweden. The exhibition addresses themes such as work, environment and everyday life. A tour version of the exhibition is given in the locations Falun, Kristianstad and Örebro.\\n\\nEWK – The Center for Political Illustration Art \\nSince 2009, the Museum also houses EWK – center for political illustration art. The museum preserves, develops and conveys the political illustrator Ewert Karlsson's production. The museum also holds theme exhibitions with national and international political illustrators with the aim of highlighting and strengthening the political art.\\n\\nSee also\\n List of museums in Sweden\\n Culture of Sweden\\n\\nReferences\\n\\nExternal links\\n  Arbetetsmuseum Official site\\n\\nMuseums in Östergötland County\\nBuildings and structures in Norrköping\\nIndustry museums in Sweden\\nCultural heritage of Sweden\"}\n"
          ]
        }
      ]
    },
    {
      "cell_type": "code",
      "source": [
        "type(wik_corp)"
      ],
      "metadata": {
        "colab": {
          "base_uri": "https://localhost:8080/"
        },
        "id": "xGelGNOB0plP",
        "outputId": "b50f849f-c5af-477f-83b3-265f303363d0"
      },
      "execution_count": null,
      "outputs": [
        {
          "output_type": "execute_result",
          "data": {
            "text/plain": [
              "datasets.dataset_dict.DatasetDict"
            ]
          },
          "metadata": {},
          "execution_count": 3
        }
      ]
    },
    {
      "cell_type": "code",
      "source": [
        "print(\"The various pre-splits:\", wik_corp.keys())"
      ],
      "metadata": {
        "colab": {
          "base_uri": "https://localhost:8080/"
        },
        "id": "RkTTvB-542Sc",
        "outputId": "b351c5bd-e739-487b-f1ab-28fc55ca5090"
      },
      "execution_count": null,
      "outputs": [
        {
          "output_type": "stream",
          "name": "stdout",
          "text": [
            "The various pre-splits: dict_keys(['train'])\n"
          ]
        }
      ]
    },
    {
      "cell_type": "code",
      "source": [
        "# Extracting the train-split from the HF DatasetDict Format:\n",
        "train_wik_corp = wik_corp['train']"
      ],
      "metadata": {
        "id": "3oNuWjI8_c2Z"
      },
      "execution_count": null,
      "outputs": []
    },
    {
      "cell_type": "code",
      "source": [
        "# (CAUTION: NOT WORKING DUE TO RAM CONSTRAINTS, IMPLEMENTED BATCH LOADING) Converting the train-split into a DataFrame for easier manipulation:\n",
        "\n",
        "# Accessing the train split:\n",
        "train_dataset = wik_corp['train']\n",
        "\n",
        "# Converting to a Pandas DataFrame:\n",
        "train_df = train_dataset.to_pandas()"
      ],
      "metadata": {
        "id": "FD6lO2sl49cT"
      },
      "execution_count": null,
      "outputs": []
    },
    {
      "cell_type": "markdown",
      "source": [
        "Now, the goal is to load and organize the TOT queries/topics into a DataFrame from the provided JSON file. The JSON file has objects with the following attributes/properties:\n",
        "* `query_id`: An unique identifier for the query\n",
        "* `query`: The ambiguous full text TOT query"
      ],
      "metadata": {
        "id": "PSJqao263EuY"
      }
    },
    {
      "cell_type": "code",
      "source": [
        "# Loading the JSONL file into a DataFrame\n",
        "query_corp = pd.read_json(\"/content/drive/MyDrive/Projects/Machine Learning Projects/TREC TOT 2025/Queries (JSONL)/train-2025-queries.jsonl\", lines=True)"
      ],
      "metadata": {
        "id": "0Rf9kGRG05cw"
      },
      "execution_count": null,
      "outputs": []
    },
    {
      "cell_type": "code",
      "source": [
        "rows, columns = query_corp.shape\n",
        "print(\"Number of Queries/Topics = \", rows)"
      ],
      "metadata": {
        "colab": {
          "base_uri": "https://localhost:8080/"
        },
        "id": "vX_OkPyf3g5n",
        "outputId": "19b51987-4711-4e23-8771-e658b26fd174"
      },
      "execution_count": null,
      "outputs": [
        {
          "output_type": "stream",
          "name": "stdout",
          "text": [
            "Number of Queries/Topics =  143\n"
          ]
        }
      ]
    },
    {
      "cell_type": "code",
      "source": [
        "query_corp.head()"
      ],
      "metadata": {
        "colab": {
          "base_uri": "https://localhost:8080/",
          "height": 206
        },
        "id": "Vi2t_j_m2-Kf",
        "outputId": "013a6d9d-e1ba-49bb-8274-8888af35d99c"
      },
      "execution_count": null,
      "outputs": [
        {
          "output_type": "execute_result",
          "data": {
            "text/plain": [
              "   query_id                                              query\n",
              "0       763  Super Rare Surreal Dystopian Masterpiece .\\n V...\n",
              "1       802  Male little person falls in love with red-head...\n",
              "2       950  Movie about two girls who run away and murder ...\n",
              "3       220  Possibly an occult film .\\n I remember I was y...\n",
              "4       792  kid who robs houses .\\n Ok, so I seen this mov..."
            ],
            "text/html": [
              "\n",
              "  <div id=\"df-a33d4411-461b-40fc-9057-5e6663ab4644\" class=\"colab-df-container\">\n",
              "    <div>\n",
              "<style scoped>\n",
              "    .dataframe tbody tr th:only-of-type {\n",
              "        vertical-align: middle;\n",
              "    }\n",
              "\n",
              "    .dataframe tbody tr th {\n",
              "        vertical-align: top;\n",
              "    }\n",
              "\n",
              "    .dataframe thead th {\n",
              "        text-align: right;\n",
              "    }\n",
              "</style>\n",
              "<table border=\"1\" class=\"dataframe\">\n",
              "  <thead>\n",
              "    <tr style=\"text-align: right;\">\n",
              "      <th></th>\n",
              "      <th>query_id</th>\n",
              "      <th>query</th>\n",
              "    </tr>\n",
              "  </thead>\n",
              "  <tbody>\n",
              "    <tr>\n",
              "      <th>0</th>\n",
              "      <td>763</td>\n",
              "      <td>Super Rare Surreal Dystopian Masterpiece .\\n V...</td>\n",
              "    </tr>\n",
              "    <tr>\n",
              "      <th>1</th>\n",
              "      <td>802</td>\n",
              "      <td>Male little person falls in love with red-head...</td>\n",
              "    </tr>\n",
              "    <tr>\n",
              "      <th>2</th>\n",
              "      <td>950</td>\n",
              "      <td>Movie about two girls who run away and murder ...</td>\n",
              "    </tr>\n",
              "    <tr>\n",
              "      <th>3</th>\n",
              "      <td>220</td>\n",
              "      <td>Possibly an occult film .\\n I remember I was y...</td>\n",
              "    </tr>\n",
              "    <tr>\n",
              "      <th>4</th>\n",
              "      <td>792</td>\n",
              "      <td>kid who robs houses .\\n Ok, so I seen this mov...</td>\n",
              "    </tr>\n",
              "  </tbody>\n",
              "</table>\n",
              "</div>\n",
              "    <div class=\"colab-df-buttons\">\n",
              "\n",
              "  <div class=\"colab-df-container\">\n",
              "    <button class=\"colab-df-convert\" onclick=\"convertToInteractive('df-a33d4411-461b-40fc-9057-5e6663ab4644')\"\n",
              "            title=\"Convert this dataframe to an interactive table.\"\n",
              "            style=\"display:none;\">\n",
              "\n",
              "  <svg xmlns=\"http://www.w3.org/2000/svg\" height=\"24px\" viewBox=\"0 -960 960 960\">\n",
              "    <path d=\"M120-120v-720h720v720H120Zm60-500h600v-160H180v160Zm220 220h160v-160H400v160Zm0 220h160v-160H400v160ZM180-400h160v-160H180v160Zm440 0h160v-160H620v160ZM180-180h160v-160H180v160Zm440 0h160v-160H620v160Z\"/>\n",
              "  </svg>\n",
              "    </button>\n",
              "\n",
              "  <style>\n",
              "    .colab-df-container {\n",
              "      display:flex;\n",
              "      gap: 12px;\n",
              "    }\n",
              "\n",
              "    .colab-df-convert {\n",
              "      background-color: #E8F0FE;\n",
              "      border: none;\n",
              "      border-radius: 50%;\n",
              "      cursor: pointer;\n",
              "      display: none;\n",
              "      fill: #1967D2;\n",
              "      height: 32px;\n",
              "      padding: 0 0 0 0;\n",
              "      width: 32px;\n",
              "    }\n",
              "\n",
              "    .colab-df-convert:hover {\n",
              "      background-color: #E2EBFA;\n",
              "      box-shadow: 0px 1px 2px rgba(60, 64, 67, 0.3), 0px 1px 3px 1px rgba(60, 64, 67, 0.15);\n",
              "      fill: #174EA6;\n",
              "    }\n",
              "\n",
              "    .colab-df-buttons div {\n",
              "      margin-bottom: 4px;\n",
              "    }\n",
              "\n",
              "    [theme=dark] .colab-df-convert {\n",
              "      background-color: #3B4455;\n",
              "      fill: #D2E3FC;\n",
              "    }\n",
              "\n",
              "    [theme=dark] .colab-df-convert:hover {\n",
              "      background-color: #434B5C;\n",
              "      box-shadow: 0px 1px 3px 1px rgba(0, 0, 0, 0.15);\n",
              "      filter: drop-shadow(0px 1px 2px rgba(0, 0, 0, 0.3));\n",
              "      fill: #FFFFFF;\n",
              "    }\n",
              "  </style>\n",
              "\n",
              "    <script>\n",
              "      const buttonEl =\n",
              "        document.querySelector('#df-a33d4411-461b-40fc-9057-5e6663ab4644 button.colab-df-convert');\n",
              "      buttonEl.style.display =\n",
              "        google.colab.kernel.accessAllowed ? 'block' : 'none';\n",
              "\n",
              "      async function convertToInteractive(key) {\n",
              "        const element = document.querySelector('#df-a33d4411-461b-40fc-9057-5e6663ab4644');\n",
              "        const dataTable =\n",
              "          await google.colab.kernel.invokeFunction('convertToInteractive',\n",
              "                                                    [key], {});\n",
              "        if (!dataTable) return;\n",
              "\n",
              "        const docLinkHtml = 'Like what you see? Visit the ' +\n",
              "          '<a target=\"_blank\" href=https://colab.research.google.com/notebooks/data_table.ipynb>data table notebook</a>'\n",
              "          + ' to learn more about interactive tables.';\n",
              "        element.innerHTML = '';\n",
              "        dataTable['output_type'] = 'display_data';\n",
              "        await google.colab.output.renderOutput(dataTable, element);\n",
              "        const docLink = document.createElement('div');\n",
              "        docLink.innerHTML = docLinkHtml;\n",
              "        element.appendChild(docLink);\n",
              "      }\n",
              "    </script>\n",
              "  </div>\n",
              "\n",
              "\n",
              "    <div id=\"df-36a14a1f-df66-4701-af25-040bbfb052f7\">\n",
              "      <button class=\"colab-df-quickchart\" onclick=\"quickchart('df-36a14a1f-df66-4701-af25-040bbfb052f7')\"\n",
              "                title=\"Suggest charts\"\n",
              "                style=\"display:none;\">\n",
              "\n",
              "<svg xmlns=\"http://www.w3.org/2000/svg\" height=\"24px\"viewBox=\"0 0 24 24\"\n",
              "     width=\"24px\">\n",
              "    <g>\n",
              "        <path d=\"M19 3H5c-1.1 0-2 .9-2 2v14c0 1.1.9 2 2 2h14c1.1 0 2-.9 2-2V5c0-1.1-.9-2-2-2zM9 17H7v-7h2v7zm4 0h-2V7h2v10zm4 0h-2v-4h2v4z\"/>\n",
              "    </g>\n",
              "</svg>\n",
              "      </button>\n",
              "\n",
              "<style>\n",
              "  .colab-df-quickchart {\n",
              "      --bg-color: #E8F0FE;\n",
              "      --fill-color: #1967D2;\n",
              "      --hover-bg-color: #E2EBFA;\n",
              "      --hover-fill-color: #174EA6;\n",
              "      --disabled-fill-color: #AAA;\n",
              "      --disabled-bg-color: #DDD;\n",
              "  }\n",
              "\n",
              "  [theme=dark] .colab-df-quickchart {\n",
              "      --bg-color: #3B4455;\n",
              "      --fill-color: #D2E3FC;\n",
              "      --hover-bg-color: #434B5C;\n",
              "      --hover-fill-color: #FFFFFF;\n",
              "      --disabled-bg-color: #3B4455;\n",
              "      --disabled-fill-color: #666;\n",
              "  }\n",
              "\n",
              "  .colab-df-quickchart {\n",
              "    background-color: var(--bg-color);\n",
              "    border: none;\n",
              "    border-radius: 50%;\n",
              "    cursor: pointer;\n",
              "    display: none;\n",
              "    fill: var(--fill-color);\n",
              "    height: 32px;\n",
              "    padding: 0;\n",
              "    width: 32px;\n",
              "  }\n",
              "\n",
              "  .colab-df-quickchart:hover {\n",
              "    background-color: var(--hover-bg-color);\n",
              "    box-shadow: 0 1px 2px rgba(60, 64, 67, 0.3), 0 1px 3px 1px rgba(60, 64, 67, 0.15);\n",
              "    fill: var(--button-hover-fill-color);\n",
              "  }\n",
              "\n",
              "  .colab-df-quickchart-complete:disabled,\n",
              "  .colab-df-quickchart-complete:disabled:hover {\n",
              "    background-color: var(--disabled-bg-color);\n",
              "    fill: var(--disabled-fill-color);\n",
              "    box-shadow: none;\n",
              "  }\n",
              "\n",
              "  .colab-df-spinner {\n",
              "    border: 2px solid var(--fill-color);\n",
              "    border-color: transparent;\n",
              "    border-bottom-color: var(--fill-color);\n",
              "    animation:\n",
              "      spin 1s steps(1) infinite;\n",
              "  }\n",
              "\n",
              "  @keyframes spin {\n",
              "    0% {\n",
              "      border-color: transparent;\n",
              "      border-bottom-color: var(--fill-color);\n",
              "      border-left-color: var(--fill-color);\n",
              "    }\n",
              "    20% {\n",
              "      border-color: transparent;\n",
              "      border-left-color: var(--fill-color);\n",
              "      border-top-color: var(--fill-color);\n",
              "    }\n",
              "    30% {\n",
              "      border-color: transparent;\n",
              "      border-left-color: var(--fill-color);\n",
              "      border-top-color: var(--fill-color);\n",
              "      border-right-color: var(--fill-color);\n",
              "    }\n",
              "    40% {\n",
              "      border-color: transparent;\n",
              "      border-right-color: var(--fill-color);\n",
              "      border-top-color: var(--fill-color);\n",
              "    }\n",
              "    60% {\n",
              "      border-color: transparent;\n",
              "      border-right-color: var(--fill-color);\n",
              "    }\n",
              "    80% {\n",
              "      border-color: transparent;\n",
              "      border-right-color: var(--fill-color);\n",
              "      border-bottom-color: var(--fill-color);\n",
              "    }\n",
              "    90% {\n",
              "      border-color: transparent;\n",
              "      border-bottom-color: var(--fill-color);\n",
              "    }\n",
              "  }\n",
              "</style>\n",
              "\n",
              "      <script>\n",
              "        async function quickchart(key) {\n",
              "          const quickchartButtonEl =\n",
              "            document.querySelector('#' + key + ' button');\n",
              "          quickchartButtonEl.disabled = true;  // To prevent multiple clicks.\n",
              "          quickchartButtonEl.classList.add('colab-df-spinner');\n",
              "          try {\n",
              "            const charts = await google.colab.kernel.invokeFunction(\n",
              "                'suggestCharts', [key], {});\n",
              "          } catch (error) {\n",
              "            console.error('Error during call to suggestCharts:', error);\n",
              "          }\n",
              "          quickchartButtonEl.classList.remove('colab-df-spinner');\n",
              "          quickchartButtonEl.classList.add('colab-df-quickchart-complete');\n",
              "        }\n",
              "        (() => {\n",
              "          let quickchartButtonEl =\n",
              "            document.querySelector('#df-36a14a1f-df66-4701-af25-040bbfb052f7 button');\n",
              "          quickchartButtonEl.style.display =\n",
              "            google.colab.kernel.accessAllowed ? 'block' : 'none';\n",
              "        })();\n",
              "      </script>\n",
              "    </div>\n",
              "\n",
              "    </div>\n",
              "  </div>\n"
            ],
            "application/vnd.google.colaboratory.intrinsic+json": {
              "type": "dataframe",
              "variable_name": "query_corp",
              "summary": "{\n  \"name\": \"query_corp\",\n  \"rows\": 143,\n  \"fields\": [\n    {\n      \"column\": \"query_id\",\n      \"properties\": {\n        \"dtype\": \"number\",\n        \"std\": 284,\n        \"min\": 109,\n        \"max\": 1093,\n        \"num_unique_values\": 143,\n        \"samples\": [\n          653,\n          838,\n          1007\n        ],\n        \"semantic_type\": \"\",\n        \"description\": \"\"\n      }\n    },\n    {\n      \"column\": \"query\",\n      \"properties\": {\n        \"dtype\": \"string\",\n        \"num_unique_values\": 143,\n        \"samples\": [\n          \"Woman tries to steal jewel from old man and she has different disguises. .\\n It is in color, and is a children\\u2019s movie. She finally confronts him with a gun at a ski trip, and he wears a fake tattoo to hide from her. But it washes off in a jacuzzi. lor, and is a children\\u2019s movie. She finally confronts him with a gun at a ski trip, and he wears a fake tattoo to hide from her. But it washes off in a jacuzzi.\",\n          \"70-90s comedy Young guy meets a lady at a cafe, the attempts of making the date are the storyline .\\n He meets this girl in a caf\\u00e9 basically, and he ends up going over to her place later. She has a roomate that is doing paper mache stuff. Rest may or may not be in order: There\\u00b4s this gag throughout the movie about two guys in a van stealing stuff, among those the paper mache thing, and the main character calls them out for it but we learn those were friends of the roommate. I\\u00b4m fairly sure the girl(might\\u00b4ve been the roomate) dies at some point or in the midst of the movie. There\\u00b4s a note that one of them have gone to a \\u201chard rock\\u201d bar or disco, and the main character goes there, and in the party, some guys pin him down and attempt/or succesfully shave his head. Rest I can\\u00b4t really recall, thanks in advance!\",\n          \"Old Frankenstein style movie, maybe satiric? .\\n Hello there! I saw this movie quite a while ago (10 years?) and here are the details I remember: \\u2013 black and white, though I\\u2019m not sure if it was really old or made to look old \\u2013 Frankenstein style scientist, who had \\u201ccreations\\u201d running errands for him \\u2013 those creations could be regenerated if he even had the smallest bodypart, for example a finger, that would be placed into a machine (I distinctly remember a metal spiral) and run through with electricity \\u2013 I think I remember that the creations were kidnapping young women for the scientist to cast them in wax (I\\u2019m not sure, I could be mixing this up) \\u2013 I also think those creations murdered at least a few people \\u2013 underneath all the grimness, I remember the movie having a humorous undertone, which is why I think it could have been satirical \\u2013 the whole movie had a little bit of a Frankenstein / the Munsters / the Addams family vibe to it. I\\u2019d be really grateful if someone remembers this ? Thx, Caramelia\"\n        ],\n        \"semantic_type\": \"\",\n        \"description\": \"\"\n      }\n    }\n  ]\n}"
            }
          },
          "metadata": {},
          "execution_count": 12
        }
      ]
    },
    {
      "cell_type": "markdown",
      "source": [
        "# Document Indexing:"
      ],
      "metadata": {
        "id": "LOHR5-Eq-pe-"
      }
    },
    {
      "cell_type": "markdown",
      "source": [
        "* As the Wikipedia corpus is too large to fit into memory, we have to proceed by loading it in batches of `N = 10000`"
      ],
      "metadata": {
        "id": "rA3ZnW75AUEz"
      }
    },
    {
      "cell_type": "markdown",
      "source": [
        "In-case the Index Generation Fails due to Runtime crashes download the Index provided by the organizers (~12GB): https://files.webis.de/data-in-progress/trec-tot-2025-indices/trec-tot-2025-pyterrier-index.zip (this is to facilitate quick experimentation)"
      ],
      "metadata": {
        "id": "XoL26WOVNhK9"
      }
    },
    {
      "cell_type": "code",
      "source": [
        "index_path = \"./wiki_index\"\n",
        "\n",
        "# Checking if Terrier index is already built:\n",
        "def is_index_built(index_path):\n",
        "    return os.path.exists(os.path.join(index_path, \"data.properties\"))\n",
        "\n",
        "# Batch generator from HuggingFace dataset to generate the index in batches (memory constraint):\n",
        "def generate_batches(dataset, batch_size=10000):\n",
        "    for start in range(0, len(dataset), batch_size):\n",
        "        batch = dataset.select(range(start, min(start + batch_size, len(dataset))))\n",
        "        df = batch.to_pandas().rename(columns={\"id\": \"docno\", \"text\": \"text\"})\n",
        "        yield from df[['docno', 'text']].to_dict(orient='records')\n",
        "\n",
        "\n",
        "# Indexing the document corpus:\n",
        "if not is_index_built(index_path):\n",
        "    print(\"Indexing in batches...\")\n",
        "    indexer = pt.IterDictIndexer(index_path, stemmer='porter', stopwords='terrier')\n",
        "    indexref = indexer.index(generate_batches(train_wik_corp, batch_size=10000))\n",
        "else:\n",
        "    print(\"Using existing index...\")\n",
        "    indexref = pt.IndexFactory.of(index_path)"
      ],
      "metadata": {
        "id": "oj6c-J3GCXlq"
      },
      "execution_count": null,
      "outputs": []
    },
    {
      "cell_type": "markdown",
      "source": [
        "# Statistical Retrieval and Reformulation:"
      ],
      "metadata": {
        "id": "cI_AgKZsEded"
      }
    },
    {
      "cell_type": "code",
      "source": [
        "# The Query corpus is a Pandas DataFrame with columns \"query_id\", \"query\". Renaming the \"query_id\" column for Terrier pipeline compatibility:\n",
        "queries = query_corp.rename(columns={\"query_id\": \"qid\"})\n",
        "\n",
        "# Basic retrieval methods:\n",
        "bm25 = pt.BatchRetrieve(indexref, wmodel=\"BM25\")\n",
        "dfr = pt.BatchRetrieve(indexref, wmodel=\"DFR_BM25\")\n",
        "pl2 = pt.BatchRetrieve(indexref, wmodel=\"PL2\")\n",
        "\n",
        "# Applying Query Reformulation:\n",
        "rm3 = pt.rewrite.RM3(indexref)\n",
        "bo1 = pt.rewrite.Bo1QueryExpansion(indexref)\n",
        "sdm = pt.rewrite.SDM(indexref)\n",
        "\n",
        "# Combining the reformulations with BM25:\n",
        "bm25_rm3 = rm3 >> bm25\n",
        "bm25_bo1 = bo1 >> bm25\n",
        "bm25_sdm = sdm >> bm25"
      ],
      "metadata": {
        "id": "XxPHDxAhEazl"
      },
      "execution_count": null,
      "outputs": []
    },
    {
      "cell_type": "code",
      "source": [
        "# Lightweight metadata table for URL and title mapping\n",
        "doc_meta_df = train_wik_corp.to_pandas()[['id', 'url', 'title']].rename(columns={\"id\": \"docno\"})"
      ],
      "metadata": {
        "id": "t8xMc-HoGE9C"
      },
      "execution_count": null,
      "outputs": []
    },
    {
      "cell_type": "code",
      "source": [
        "# Utility function to get top-1000 results per query and merge with URL/title:\n",
        "def run_and_merge(pipeline, name=\"bm25\", top_k=1000):\n",
        "    print(f\"\\nRunning: {name}\")\n",
        "    results = pipeline.transform(queries)\n",
        "\n",
        "    # Getting the top-k per query:\n",
        "    results = results.groupby(\"qid\").apply(lambda x: x.nlargest(top_k, \"score\")).reset_index(drop=True)\n",
        "\n",
        "    # Merging with URL/title:\n",
        "    results = results.merge(doc_meta_df, on=\"docno\", how=\"left\")\n",
        "\n",
        "    return results\n"
      ],
      "metadata": {
        "id": "i0iNN3-MGNJs"
      },
      "execution_count": null,
      "outputs": []
    },
    {
      "cell_type": "code",
      "source": [
        "retrieval_runs = {\n",
        "    \"BM25\": bm25,\n",
        "    \"DFR\": dfr,\n",
        "    \"PL2\": pl2,\n",
        "    \"BM25 + RM3\": bm25_rm3,\n",
        "    \"BM25 + Bo1\": bm25_bo1,\n",
        "    \"BM25 + SDM\": bm25_sdm\n",
        "}\n",
        "\n",
        "# Dictionary to hold results:\n",
        "all_results = {}\n",
        "\n",
        "# Running and collect results:\n",
        "for name, pipe in retrieval_runs.items():\n",
        "    all_results[name] = run_and_merge(pipe, name)\n"
      ],
      "metadata": {
        "id": "rzgmQOkMGUUJ"
      },
      "execution_count": null,
      "outputs": []
    },
    {
      "cell_type": "code",
      "source": [
        "# Storing the results into a CSV File:\n",
        "for name, df in all_results.items():\n",
        "    df.to_csv(f\"retrieval_{name.replace(' ', '_')}.csv\", index=False)"
      ],
      "metadata": {
        "id": "3mjUNMImGZju"
      },
      "execution_count": null,
      "outputs": []
    },
    {
      "cell_type": "markdown",
      "source": [
        "# Incorporating ColBERT into the Retrieval Task:"
      ],
      "metadata": {
        "id": "G8BHkacEG3Z6"
      }
    },
    {
      "cell_type": "code",
      "source": [
        "! pip install pyterrier_colbert pyterrier_dr"
      ],
      "metadata": {
        "id": "rym9QaeKHD_J"
      },
      "execution_count": null,
      "outputs": []
    },
    {
      "cell_type": "code",
      "source": [
        "import pyterrier_colbert as ptc\n",
        "\n",
        "# Setting up the ColBERT root directory:\n",
        "colbert_root = \"./colbert_model\"\n",
        "\n",
        "# Initializing a ColBERT Factory with pretrained model\n",
        "factory = ptc.ColBERTFactory(\n",
        "    checkpoint=\"colbertv2.0\",\n",
        "    index_root=colbert_root,\n",
        "    collection=train_wik_corp, # HuggingFace dataset as input\n",
        "    index_name=\"wikicolbert\",\n",
        "    faiss_partitions=1  # Reduce if on limited RAM\n",
        ")"
      ],
      "metadata": {
        "id": "FOkDkyKVHI90"
      },
      "execution_count": null,
      "outputs": []
    },
    {
      "cell_type": "code",
      "source": [
        "# Building the ColBERT index from HuggingFace Dataset\n",
        "factory.index()"
      ],
      "metadata": {
        "id": "LzkhvG89HXiB"
      },
      "execution_count": null,
      "outputs": []
    },
    {
      "cell_type": "code",
      "source": [
        "# Building the full ColBERT pipeline: encode queries → retrieve\n",
        "colbert_pipeline = ptc.encode_queries(factory) >> factory.searcher()"
      ],
      "metadata": {
        "id": "t1qL2gtcHbDR"
      },
      "execution_count": null,
      "outputs": []
    },
    {
      "cell_type": "code",
      "source": [
        "# Running ColBERT to get the Top-1000 Results:\n",
        "colbert_results = run_and_merge(colbert_pipeline, name=\"ColBERT\")"
      ],
      "metadata": {
        "id": "7VnIEUlnHetT"
      },
      "execution_count": null,
      "outputs": []
    },
    {
      "cell_type": "code",
      "source": [
        "# Saving ColBERT results into CSV:\n",
        "colbert_results.to_csv(\"retrieval_ColBERT.csv\", index=False)"
      ],
      "metadata": {
        "id": "55CJu-RbHno8"
      },
      "execution_count": null,
      "outputs": []
    },
    {
      "cell_type": "markdown",
      "source": [
        "# Incorportating TCT-ColBERT and ANCE:"
      ],
      "metadata": {
        "id": "BQ6vLo6wHuT1"
      }
    },
    {
      "cell_type": "code",
      "source": [
        "!pip install pyterrier_dr"
      ],
      "metadata": {
        "id": "wwHa_AtFHt7L"
      },
      "execution_count": null,
      "outputs": []
    },
    {
      "cell_type": "code",
      "source": [
        "import pyterrier_dr as ptdr"
      ],
      "metadata": {
        "id": "APHR9XAAH7Tj"
      },
      "execution_count": null,
      "outputs": []
    },
    {
      "cell_type": "code",
      "source": [
        "# TCT-ColBERT pretrained on MS MARCO (hybrid of ColBERT + dense retrieval)\n",
        "tct_model = ptdr.DuoBERT.from_pretrained(\"castorini/tct_colbert-v2-hnp-msmarco\")"
      ],
      "metadata": {
        "id": "YZpdsUxlH9wS"
      },
      "execution_count": null,
      "outputs": []
    },
    {
      "cell_type": "code",
      "source": [
        "# ANCE (Approximate Nearest-neighbor Negative Contrastive Learning Encoder)\n",
        "ance_model = ptdr.DuoBERT.from_pretrained(\"castorini/ance-msmarco\")"
      ],
      "metadata": {
        "id": "CTj5dR5aIBYr"
      },
      "execution_count": null,
      "outputs": []
    },
    {
      "cell_type": "markdown",
      "source": [
        "* This creates the FAISS index from the document corpus in batches"
      ],
      "metadata": {
        "id": "QmammHKhINCu"
      }
    },
    {
      "cell_type": "code",
      "source": [
        "# Indexing documents with TCT-ColBERT:\n",
        "tct_model.index(train_wik_corp, id_field=\"id\", text_field=\"text\")\n",
        "\n",
        "# Indexing documents with ANCE:\n",
        "ance_model.index(train_wik_corp, id_field=\"id\", text_field=\"text\")"
      ],
      "metadata": {
        "id": "-ANG-mStICjV"
      },
      "execution_count": null,
      "outputs": []
    },
    {
      "cell_type": "code",
      "source": [
        "# TCT-ColBERT pipeline\n",
        "tct_pipeline = ptdr.encode_queries(tct_model) >> tct_model\n",
        "\n",
        "# ANCE pipeline\n",
        "ance_pipeline = ptdr.encode_queries(ance_model) >> ance_model"
      ],
      "metadata": {
        "id": "p-Zw0CHwIFxN"
      },
      "execution_count": null,
      "outputs": []
    },
    {
      "cell_type": "code",
      "source": [
        "# Retrieving the Top-1000 Docs and Merging Metadata:\n",
        "tct_results = run_and_merge(tct_pipeline, name=\"TCT-ColBERT\")\n",
        "ance_results = run_and_merge(ance_pipeline, name=\"ANCE\")"
      ],
      "metadata": {
        "id": "on_uIWA-IUog"
      },
      "execution_count": null,
      "outputs": []
    },
    {
      "cell_type": "code",
      "source": [
        "# Saving the results into CSV:\n",
        "tct_results.to_csv(\"retrieval_TCT_ColBERT.csv\", index=False)\n",
        "ance_results.to_csv(\"retrieval_ANCE.csv\", index=False)"
      ],
      "metadata": {
        "id": "7Yd8bhKFIYLe"
      },
      "execution_count": null,
      "outputs": []
    },
    {
      "cell_type": "markdown",
      "source": [
        "# Retrieval Pipeline Evaluations:"
      ],
      "metadata": {
        "id": "Q0nPD_agLxg4"
      }
    },
    {
      "cell_type": "markdown",
      "source": [
        "* The metrics to be used (as mentioned on TREC TOT 2025 official page) are `ndcg@100`, `ndcg@1000`, `r@1000`"
      ],
      "metadata": {
        "id": "cQYdaxSfL1Dy"
      }
    },
    {
      "cell_type": "code",
      "source": [
        "# Defining the pipelines:\n",
        "pipelines = [\n",
        "    (\"BM25\", bm25),\n",
        "    (\"DFR\", dfr),\n",
        "    (\"PL2\", pl2),\n",
        "    (\"RM3\", bm25_rm3),\n",
        "    (\"Bo1\", bm25_bo1),\n",
        "    (\"SDM\", bm25_sdm),\n",
        "    (\"ColBERT\", colbert_pipeline),\n",
        "    (\"TCT-ColBERT\", tct_pipeline),\n",
        "    (\"ANCE\", ance_pipeline)\n",
        "]"
      ],
      "metadata": {
        "id": "dam93yinMA-J"
      },
      "execution_count": null,
      "outputs": []
    },
    {
      "cell_type": "code",
      "source": [
        "# Evaluating all pipelines on the same queries and qrels:\n",
        "results_df = pt.Experiment(\n",
        "    retrievers=[pipe for _, pipe in pipelines],\n",
        "    topics=query_df,            # Should have 'qid' and 'query' columns\n",
        "    qrels=qrels,                # The QREL (Query Relevance Judgement File) Should have 'qid', 'docno', 'label'\n",
        "    eval_metrics=[\"ndcg@100\", \"ndcg@1000\", \"recall@1000\"],\n",
        "    names=[name for name, _ in pipelines]\n",
        ")"
      ],
      "metadata": {
        "id": "AupwVzyuMhe2"
      },
      "execution_count": null,
      "outputs": []
    },
    {
      "cell_type": "code",
      "source": [
        "# Exporting the results into a CSV:\n",
        "results_df.to_csv(\"retrieval_comparison.csv\", index=False)\n",
        "print(\"Exported to retrieval_comparison.csv\")"
      ],
      "metadata": {
        "id": "3lM7bxzxMnQK"
      },
      "execution_count": null,
      "outputs": []
    },
    {
      "cell_type": "markdown",
      "source": [
        "* We can bootstrap our own QRELs using BM25 retrieval results as a proxy for relevance. This is commonly done when true relevance judgments are unavailable, and is often referred to as “pseudo-QRELs\""
      ],
      "metadata": {
        "id": "o1caSiJINNyv"
      }
    }
  ]
}
